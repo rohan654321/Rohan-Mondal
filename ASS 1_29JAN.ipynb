{
 "cells": [
  {
   "cell_type": "code",
   "execution_count": 2,
   "id": "3a13f7f1-58fa-499e-82dd-780d3a1cd360",
   "metadata": {},
   "outputs": [],
   "source": [
    "#1.Guido van Rossum developed python programming language"
   ]
  },
  {
   "cell_type": "code",
   "execution_count": 3,
   "id": "a008fce0-ae1b-447c-8e19-c5517e810de0",
   "metadata": {},
   "outputs": [],
   "source": [
    "#2. object oriented programming and structed programming are supported by python"
   ]
  },
  {
   "cell_type": "code",
   "execution_count": 4,
   "id": "7b37e734-8018-4c05-aa14-7aec9e06a42b",
   "metadata": {},
   "outputs": [],
   "source": [
    "#3.Yes, python is case sensitive when dealing with identifiers i.e, it treats uppercase amd lowercase character differently"
   ]
  },
  {
   "cell_type": "code",
   "execution_count": 5,
   "id": "e1878e56-e08a-47a8-b5a9-99b05a659c50",
   "metadata": {},
   "outputs": [],
   "source": [
    "#correct extension of python file is .py"
   ]
  },
  {
   "cell_type": "code",
   "execution_count": 6,
   "id": "a50f97ff-947e-4dec-9a7c-d9eaeb33db12",
   "metadata": {},
   "outputs": [],
   "source": [
    "# python is interpreted code"
   ]
  },
  {
   "cell_type": "code",
   "execution_count": 7,
   "id": "4ebadd44-d899-41c4-8244-cb7fec8681f9",
   "metadata": {},
   "outputs": [],
   "source": [
    "#7. # is the character to give single line comment"
   ]
  },
  {
   "cell_type": "code",
   "execution_count": 8,
   "id": "cc718af8-bd11-4b05-a092-46e3823fcd0d",
   "metadata": {},
   "outputs": [],
   "source": [
    "#8. The function sys.version can help us to find the version of python"
   ]
  },
  {
   "cell_type": "code",
   "execution_count": 9,
   "id": "3df80340-69bc-4606-acf4-1c0fc31f7cab",
   "metadata": {},
   "outputs": [],
   "source": [
    "#9. \"lamda\""
   ]
  },
  {
   "cell_type": "code",
   "execution_count": 10,
   "id": "65ed5e19-7355-4a68-ad41-02b5da1a4c44",
   "metadata": {},
   "outputs": [],
   "source": [
    "#10. Pip isntall packages which is used to install python packages"
   ]
  },
  {
   "cell_type": "code",
   "execution_count": 11,
   "id": "5ff8a722-18bf-4ab9-bff6-5c020adfc88a",
   "metadata": {},
   "outputs": [],
   "source": [
    "#11. print(), type(), input(), int(), pop() etc"
   ]
  },
  {
   "cell_type": "code",
   "execution_count": 12,
   "id": "0da96305-4b91-44af-b9b1-4e9df80ae864",
   "metadata": {},
   "outputs": [],
   "source": [
    "#12. 79"
   ]
  },
  {
   "cell_type": "code",
   "execution_count": 13,
   "id": "2c1435fc-74ca-4648-9137-50efdd32d306",
   "metadata": {},
   "outputs": [],
   "source": [
    "#13. to learn 1. data science, 2. mathematical computing, 3. web development, 4. finance and trading, 5. computer graphics"
   ]
  },
  {
   "cell_type": "code",
   "execution_count": 14,
   "id": "3989916f-ed27-47a4-ba8e-c8cbcb630706",
   "metadata": {},
   "outputs": [],
   "source": [
    "#14. Memory management in python involves a private heap containing all python objects and data structure"
   ]
  },
  {
   "cell_type": "code",
   "execution_count": null,
   "id": "42ff83e3-05ca-466c-a4d2-a53ffcd9bdb2",
   "metadata": {},
   "outputs": [],
   "source": [
    "#15."
   ]
  }
 ],
 "metadata": {
  "kernelspec": {
   "display_name": "Python 3 (ipykernel)",
   "language": "python",
   "name": "python3"
  },
  "language_info": {
   "codemirror_mode": {
    "name": "ipython",
    "version": 3
   },
   "file_extension": ".py",
   "mimetype": "text/x-python",
   "name": "python",
   "nbconvert_exporter": "python",
   "pygments_lexer": "ipython3",
   "version": "3.10.8"
  }
 },
 "nbformat": 4,
 "nbformat_minor": 5
}
